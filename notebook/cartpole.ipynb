{
 "cells": [
  {
   "cell_type": "code",
   "execution_count": 10,
   "metadata": {},
   "outputs": [
    {
     "name": "stderr",
     "output_type": "stream",
     "text": [
      "  0%|          | 0/4 [00:00<?, ?it/s]"
     ]
    },
    {
     "name": "stdout",
     "output_type": "stream",
     "text": [
      "../untracked/cartpole/mse_quantile_0.5__1667472538/events.out.tfevents.1667472539.nipa2022-65485.29884.0\n"
     ]
    },
    {
     "name": "stderr",
     "output_type": "stream",
     "text": [
      "  0%|          | 0/4 [00:00<?, ?it/s]\n"
     ]
    },
    {
     "ename": "DataLossError",
     "evalue": "truncated record at 10281841' failed with Read less bytes than requested",
     "output_type": "error",
     "traceback": [
      "\u001b[0;31m---------------------------------------------------------------------------\u001b[0m",
      "\u001b[0;31mDataLossError\u001b[0m                             Traceback (most recent call last)",
      "\u001b[1;32m/home/bumjin/kr_robot_2023/notebook/cartpole.ipynb Cell 1\u001b[0m in \u001b[0;36m<cell line: 16>\u001b[0;34m()\u001b[0m\n\u001b[1;32m     <a href='vscode-notebook-cell://ssh-remote%2Bnipa_from_hinton/home/bumjin/kr_robot_2023/notebook/cartpole.ipynb#W0sdnNjb2RlLXJlbW90ZQ%3D%3D?line=17'>18</a>\u001b[0m event_path \u001b[39m=\u001b[39mos\u001b[39m.\u001b[39mpath\u001b[39m.\u001b[39mjoin(model_path, [f \u001b[39mfor\u001b[39;00m f \u001b[39min\u001b[39;00m os\u001b[39m.\u001b[39mlistdir(model_path) \u001b[39mif\u001b[39;00m \u001b[39m'\u001b[39m\u001b[39mevents.\u001b[39m\u001b[39m'\u001b[39m \u001b[39min\u001b[39;00m f][\u001b[39m0\u001b[39m])\n\u001b[1;32m     <a href='vscode-notebook-cell://ssh-remote%2Bnipa_from_hinton/home/bumjin/kr_robot_2023/notebook/cartpole.ipynb#W0sdnNjb2RlLXJlbW90ZQ%3D%3D?line=18'>19</a>\u001b[0m \u001b[39mprint\u001b[39m(event_path)\n\u001b[0;32m---> <a href='vscode-notebook-cell://ssh-remote%2Bnipa_from_hinton/home/bumjin/kr_robot_2023/notebook/cartpole.ipynb#W0sdnNjb2RlLXJlbW90ZQ%3D%3D?line=19'>20</a>\u001b[0m df \u001b[39m=\u001b[39m convert_tfevent(event_path)\n\u001b[1;32m     <a href='vscode-notebook-cell://ssh-remote%2Bnipa_from_hinton/home/bumjin/kr_robot_2023/notebook/cartpole.ipynb#W0sdnNjb2RlLXJlbW90ZQ%3D%3D?line=20'>21</a>\u001b[0m df \u001b[39m=\u001b[39m df[df[\u001b[39m'\u001b[39m\u001b[39mname\u001b[39m\u001b[39m'\u001b[39m] \u001b[39m==\u001b[39m \u001b[39m'\u001b[39m\u001b[39mcharts/episodic_return\u001b[39m\u001b[39m'\u001b[39m]            \n\u001b[1;32m     <a href='vscode-notebook-cell://ssh-remote%2Bnipa_from_hinton/home/bumjin/kr_robot_2023/notebook/cartpole.ipynb#W0sdnNjb2RlLXJlbW90ZQ%3D%3D?line=21'>22</a>\u001b[0m df[\u001b[39m'\u001b[39m\u001b[39mmodel\u001b[39m\u001b[39m'\u001b[39m] \u001b[39m=\u001b[39m model\n",
      "File \u001b[0;32m~/kr_robot_2023/notebook/tensorboard_extract.py:9\u001b[0m, in \u001b[0;36mconvert_tfevent\u001b[0;34m(filepath)\u001b[0m\n\u001b[1;32m      8\u001b[0m \u001b[39mdef\u001b[39;00m \u001b[39mconvert_tfevent\u001b[39m(filepath):\n\u001b[0;32m----> 9\u001b[0m     \u001b[39mreturn\u001b[39;00m pd\u001b[39m.\u001b[39mDataFrame([\n\u001b[1;32m     10\u001b[0m         parse_tfevent(e) \u001b[39mfor\u001b[39;00m e \u001b[39min\u001b[39;00m summary_iterator(filepath) \u001b[39mif\u001b[39;00m \u001b[39mlen\u001b[39m(e\u001b[39m.\u001b[39msummary\u001b[39m.\u001b[39mvalue)\n\u001b[1;32m     11\u001b[0m     ])\n",
      "File \u001b[0;32m~/kr_robot_2023/notebook/tensorboard_extract.py:9\u001b[0m, in \u001b[0;36m<listcomp>\u001b[0;34m(.0)\u001b[0m\n\u001b[1;32m      8\u001b[0m \u001b[39mdef\u001b[39;00m \u001b[39mconvert_tfevent\u001b[39m(filepath):\n\u001b[0;32m----> 9\u001b[0m     \u001b[39mreturn\u001b[39;00m pd\u001b[39m.\u001b[39mDataFrame([\n\u001b[1;32m     10\u001b[0m         parse_tfevent(e) \u001b[39mfor\u001b[39;00m e \u001b[39min\u001b[39;00m summary_iterator(filepath) \u001b[39mif\u001b[39;00m \u001b[39mlen\u001b[39m(e\u001b[39m.\u001b[39msummary\u001b[39m.\u001b[39mvalue)\n\u001b[1;32m     11\u001b[0m     ])\n",
      "File \u001b[0;32m~/anaconda3/lib/python3.9/site-packages/tensorflow/python/summary/summary_iterator.py:33\u001b[0m, in \u001b[0;36m_SummaryIterator.__next__\u001b[0;34m(self)\u001b[0m\n\u001b[1;32m     32\u001b[0m \u001b[39mdef\u001b[39;00m \u001b[39m__next__\u001b[39m(\u001b[39mself\u001b[39m):\n\u001b[0;32m---> 33\u001b[0m   r \u001b[39m=\u001b[39m \u001b[39mnext\u001b[39;49m(\u001b[39mself\u001b[39;49m\u001b[39m.\u001b[39;49m_tf_record_iterator)\n\u001b[1;32m     34\u001b[0m   \u001b[39mreturn\u001b[39;00m event_pb2\u001b[39m.\u001b[39mEvent\u001b[39m.\u001b[39mFromString(r)\n",
      "\u001b[0;31mDataLossError\u001b[0m: truncated record at 10281841' failed with Read less bytes than requested"
     ]
    }
   ],
   "source": [
    "\n",
    "import os \n",
    "import pandas as pd \n",
    "import matplotlib.pyplot as plt \n",
    "from tensorboard_extract import convert_tfevent\n",
    "from tqdm import tqdm \n",
    "import seaborn as sns \n",
    "\n",
    "save_dir = \"results\"\n",
    "if not os.path.exists(save_dir):\n",
    "    os.makedirs(save_dir)\n",
    "path = '../untracked/cartpole'\n",
    "models= os.listdir(path)\n",
    "\n",
    "all_dfs = [] \n",
    "\n",
    "for model in tqdm(models):\n",
    "    model_path = os.path.join(path, model)\n",
    "    event_path =os.path.join(model_path, [f for f in os.listdir(model_path) if 'events.' in f][0])\n",
    "    df = convert_tfevent(event_path)\n",
    "    df = df[df['name'] == 'charts/episodic_return']            \n",
    "    df['model'] = model\n",
    "    hyp = model.split(\"_\")\n",
    "    print(hyp)\n",
    "    df['q'] = int(hyp[2])\n",
    "    # df['rnn'] = hyp[-3]\n",
    "    df['step_agg'] = (df['step'] //1000)*1000\n",
    "    all_dfs.append(df)\n",
    "\n",
    "df = pd.concat(all_dfs)\n",
    "df = df.reset_index()\n",
    "df.head()\n"
   ]
  },
  {
   "cell_type": "code",
   "execution_count": null,
   "metadata": {},
   "outputs": [],
   "source": []
  }
 ],
 "metadata": {
  "kernelspec": {
   "display_name": "Python 3.9.7 ('base')",
   "language": "python",
   "name": "python3"
  },
  "language_info": {
   "codemirror_mode": {
    "name": "ipython",
    "version": 3
   },
   "file_extension": ".py",
   "mimetype": "text/x-python",
   "name": "python",
   "nbconvert_exporter": "python",
   "pygments_lexer": "ipython3",
   "version": "3.9.12"
  },
  "orig_nbformat": 4,
  "vscode": {
   "interpreter": {
    "hash": "d733c53c25a36e33854a8263c46d4f732fe77946bdf8039c425bb5254e015fe4"
   }
  }
 },
 "nbformat": 4,
 "nbformat_minor": 2
}
